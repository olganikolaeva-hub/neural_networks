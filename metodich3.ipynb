{
  "nbformat": 4,
  "nbformat_minor": 0,
  "metadata": {
    "colab": {
      "name": "metodich3.ipynb",
      "provenance": [],
      "private_outputs": true,
      "collapsed_sections": [],
      "toc_visible": true,
      "include_colab_link": true
    },
    "kernelspec": {
      "display_name": "Python 3",
      "language": "python",
      "name": "python3"
    },
    "language_info": {
      "codemirror_mode": {
        "name": "ipython",
        "version": 3
      },
      "file_extension": ".py",
      "mimetype": "text/x-python",
      "name": "python",
      "nbconvert_exporter": "python",
      "pygments_lexer": "ipython3",
      "version": "3.7.7"
    },
    "gpuClass": "standard"
  },
  "cells": [
    {
      "cell_type": "markdown",
      "metadata": {
        "id": "view-in-github",
        "colab_type": "text"
      },
      "source": [
        "<a href=\"https://colab.research.google.com/github/olganikolaeva-hub/neural_networks/blob/main/metodich3.ipynb\" target=\"_parent\"><img src=\"https://colab.research.google.com/assets/colab-badge.svg\" alt=\"Open In Colab\"/></a>"
      ]
    },
    {
      "cell_type": "markdown",
      "metadata": {
        "id": "t4Gr6WSWZeif"
      },
      "source": [
        "# Введение в искусственные нейронные сети\n",
        "# Урок 3. TensorFlow"
      ]
    },
    {
      "cell_type": "markdown",
      "metadata": {
        "id": "bue68reXZeig"
      },
      "source": [
        "## Содержание методического пособия:\n",
        "\n",
        "\n",
        "<ol>\n",
        "<li>Что такое TensorFlow</li>\n",
        "<li>Основы синтаксиса TensorFlow</li>\n",
        "<li>Пример нейросети на TensorFlow</li>\n",
        "</ol>"
      ]
    },
    {
      "cell_type": "markdown",
      "metadata": {
        "id": "9dnPeuVjZeih"
      },
      "source": [
        "## Что такое TensorFlow\n",
        "\n",
        "TensorFlow - это фреймворк для создания ML моделей. TensorFlow предназначен в первую очередь для Deep Learning, т.е. создания современных нейросетей. Однако в TensorFlow также есть поддержка некоторых классических ML алгоритмов: K-means clustering, Random Forests, Support Vector Machines, Gaussian Mixture Model clustering, Linear/logistic regression.\n",
        "\n",
        "TensorFlow выпустила компания Google в 2015. TensorFlow - это opensource проект. На данный момент это один из основных инструментов для создания нейросетей в рабочих целях. TensorFlow позволяет создавать нейронные сети как для кластеров из большого количества вычислительных устройств, так и для устройств с относительно небольшой вычислитей мощностью, таких как смартфоны и одноплатные компьютеры.\n",
        "\n",
        "TensorFlow применяется самой компанией Google для ее поиска, почты, переводчика, распознования голоса, внутренних нужд наподобие мониторинга оборудования. TensorFlow используется различными компаниями для различных проектов связанных с компьютерным зрением, решением задач ранжирования и т.д.\n"
      ]
    },
    {
      "cell_type": "markdown",
      "metadata": {
        "id": "rv0alDOPZeih"
      },
      "source": [
        "## Основы синтаксиса TensorFlow\n",
        "\n",
        "Процесс создания нейросети на TensorFlow схож с разобранным нами процессом обучения нейросети на Keras. Отличее здесь в том, что здесь нам нужно прописать больше деталей в коде. \n",
        "\n",
        "Название TensorFlow означает поток тензоров. Тензоры - это массивы. Данные в компьютере предствлены часто в виде массивах и работа с этими массивами подразумевает их преобразования. Преобразования осуществляются через, к примеру, математические операции. Работа TensorFlow складывается из цепочки преобразований тензоров, т.е. данных. Сами операции осуществляющие преобразование данных представлены в TensorFlow в виде графов. Особенностью TensorFlow версии 1 является то, что сначала необходимо декларировать переменные и вычисления, которые будут совершенны над ними, а потом уже непосредственно запускать работу над данными. "
      ]
    },
    {
      "cell_type": "markdown",
      "metadata": {
        "id": "o84IqNt0Zeii"
      },
      "source": [
        "Давайте рассмотрим базовые вещи в синтаксисе Tensorflow 2."
      ]
    },
    {
      "cell_type": "markdown",
      "metadata": {
        "id": "-v4BEDMfZeij"
      },
      "source": [
        "Выведем строку Hello world, а также версию tensorflow"
      ]
    },
    {
      "cell_type": "code",
      "metadata": {
        "id": "pfJ55tRrZeik"
      },
      "source": [
        "import tensorflow as tf\n",
        "print(tf.__version__)\n",
        "msg = tf.constant('TensorFlow 2.0 Hello World')\n",
        "tf.print(msg)"
      ],
      "execution_count": null,
      "outputs": []
    },
    {
      "cell_type": "code",
      "source": [
        "name = tf.constant(10)"
      ],
      "metadata": {
        "id": "QeB1cT4aLBAc"
      },
      "execution_count": null,
      "outputs": []
    },
    {
      "cell_type": "markdown",
      "metadata": {
        "id": "z1thj13PZeio"
      },
      "source": [
        "Пример создания тензора - "
      ]
    },
    {
      "cell_type": "code",
      "metadata": {
        "id": "81yegHijZeio"
      },
      "source": [
        "A = tf.constant([[3, 2], \n",
        "                 [5, 2]])\n",
        "\n",
        "print(A)"
      ],
      "execution_count": null,
      "outputs": []
    },
    {
      "cell_type": "code",
      "source": [
        "name = tf.Variable(10)"
      ],
      "metadata": {
        "id": "3bgdf376LNz8"
      },
      "execution_count": null,
      "outputs": []
    },
    {
      "cell_type": "markdown",
      "metadata": {
        "id": "qlmd9aOnZeir"
      },
      "source": [
        "Приме сложения тензоров - "
      ]
    },
    {
      "cell_type": "code",
      "metadata": {
        "id": "dmdznieKZeis"
      },
      "source": [
        "B = tf.constant([[9, 5], \n",
        "                 [1, 3]])\n",
        "\n",
        "AB = tf.concat(values=[A, B], axis=1)\n",
        "print(AB.numpy())"
      ],
      "execution_count": null,
      "outputs": []
    },
    {
      "cell_type": "code",
      "source": [
        ""
      ],
      "metadata": {
        "id": "g6RxDIfXLsUl"
      },
      "execution_count": null,
      "outputs": []
    },
    {
      "cell_type": "markdown",
      "metadata": {
        "id": "86_adPP6Zeiu"
      },
      "source": [
        "Пример изменения размерности тензора - "
      ]
    },
    {
      "cell_type": "code",
      "metadata": {
        "id": "bvzZxX4MZeiv"
      },
      "source": [
        "tensor = tf.constant([[3, 2], \n",
        "                      [5, 2], \n",
        "                      [9, 5], \n",
        "                      [1, 3]])\n",
        "\n",
        "resh_tensor = tf.reshape(tensor = tensor, shape = [1, 8]) \n",
        "\n",
        "print(f'BEFORE {tensor.numpy()}')\n",
        "print(f'AFTER {resh_tensor.numpy()}')"
      ],
      "execution_count": null,
      "outputs": []
    },
    {
      "cell_type": "markdown",
      "metadata": {
        "id": "tCrf6xL5Zeiy"
      },
      "source": [
        "Пример умножения матриц, одной из самых частых операций в машинном обучении - "
      ]
    },
    {
      "cell_type": "code",
      "metadata": {
        "id": "mKkt1GPQZeiy"
      },
      "source": [
        "A = tf.constant([[3, 7], \n",
        "                 [1, 9]])\n",
        "\n",
        "\n",
        "B = tf.constant([[10, 10],\n",
        "                 [1000, 1000]])\n",
        "\n",
        "AB = tf.multiply(A, B) # A * B\n",
        "print(AB)\n"
      ],
      "execution_count": null,
      "outputs": []
    },
    {
      "cell_type": "markdown",
      "source": [
        "**Constant vs variable**\n",
        "\n",
        "Функция constant создает неизменяемые переменные; если переменной нужно будет переприсвоить за=начение в процессе работы, используется Variable"
      ],
      "metadata": {
        "id": "-Phyc5RrxaK1"
      }
    },
    {
      "cell_type": "code",
      "source": [
        "C = tf.Variable([[3, 7], [1, 9]])\n",
        "C.assign([[0, 3], [9, 4]])\n",
        "\n",
        "print(C)"
      ],
      "metadata": {
        "id": "kL07mO4_xZay"
      },
      "execution_count": null,
      "outputs": []
    },
    {
      "cell_type": "code",
      "source": [
        "tf.matmul(A, C)"
      ],
      "metadata": {
        "id": "zlQUBUOaMlpl"
      },
      "execution_count": null,
      "outputs": []
    },
    {
      "cell_type": "markdown",
      "source": [
        "Вытащить численные значения из вершины графа вычислений (был вопрос на уроке) можно конвертацией в numpy объект."
      ],
      "metadata": {
        "id": "pz5CfVyd6EEA"
      }
    },
    {
      "cell_type": "code",
      "source": [
        "A[0, 0].numpy()"
      ],
      "metadata": {
        "id": "5FqxXdSc51TM"
      },
      "execution_count": null,
      "outputs": []
    },
    {
      "cell_type": "code",
      "source": [
        "tf.multiply(A, B).numpy()"
      ],
      "metadata": {
        "id": "WSB1jMaJ5u_c"
      },
      "execution_count": null,
      "outputs": []
    },
    {
      "cell_type": "markdown",
      "source": [
        "**Работа с вычислениями**\n",
        "\n",
        "TF позволяет проводить вычисления как на CPU, так и на GPU, это определяет параметр device"
      ],
      "metadata": {
        "id": "orx12b3B3J6u"
      }
    },
    {
      "cell_type": "code",
      "source": [
        "print(\"The device which processes the variable:\\n\", C.device)"
      ],
      "metadata": {
        "id": "9dfYta3s3JVq"
      },
      "execution_count": null,
      "outputs": []
    },
    {
      "cell_type": "code",
      "source": [
        "tf.test.gpu_device_name()"
      ],
      "metadata": {
        "id": "--fFdyfv3tmw"
      },
      "execution_count": null,
      "outputs": []
    },
    {
      "cell_type": "code",
      "source": [
        "%%time \n",
        "#with tf.device('GPU:0'):\n",
        "  D = C * C\n",
        "  print(\"The device which processes the calculation:\\n\", D.device)"
      ],
      "metadata": {
        "id": "rHAKRk2h3eWu"
      },
      "execution_count": null,
      "outputs": []
    },
    {
      "cell_type": "code",
      "source": [
        "%%time\n",
        "D = C * C\n",
        "print(\"The device which processes the calculation:\\n\", D.device)"
      ],
      "metadata": {
        "id": "jPylF8kOOCR9"
      },
      "execution_count": null,
      "outputs": []
    },
    {
      "cell_type": "markdown",
      "metadata": {
        "id": "unatvMYgZei3"
      },
      "source": [
        "Функции tensorflow призваны ускорить вычисления, давайте посмотрим на следующий пример - "
      ]
    },
    {
      "cell_type": "markdown",
      "metadata": {
        "id": "jYysdyb-CaWM"
      },
      "source": [
        "# Классификация изображений одежды"
      ]
    },
    {
      "cell_type": "markdown",
      "metadata": {
        "id": "FbVhjPpzn6BM"
      },
      "source": [
        "Давайте разберем использование tensorflow 2 на примере датасета с одеждой. В это датасете будут находиться маленькие изображения на белом фоне, такие как кросовки, футболки и прочее.\n",
        "\n",
        "В данном случае мы будем использовать High API от TensorFlow"
      ]
    },
    {
      "cell_type": "code",
      "metadata": {
        "id": "dzLKpmZICaWN"
      },
      "source": [
        "from __future__ import absolute_import, division, print_function, unicode_literals\n",
        "\n",
        "# TensorFlow and tf.keras\n",
        "import tensorflow as tf\n",
        "from tensorflow import keras\n",
        "\n",
        "# Helper libraries\n",
        "import numpy as np\n",
        "import matplotlib.pyplot as plt\n"
      ],
      "execution_count": null,
      "outputs": []
    },
    {
      "cell_type": "markdown",
      "metadata": {
        "id": "yR0EdgrLCaWR"
      },
      "source": [
        "## Импортируем Fashion MNIST датасет"
      ]
    },
    {
      "cell_type": "markdown",
      "metadata": {
        "id": "DLdCchMdCaWQ"
      },
      "source": [
        "Мы будет использовать следующий датасет -  [Fashion MNIST](https://github.com/zalandoresearch/fashion-mnist) Этот датасет содержит 70,000 черно-белых изображений в 10 категориях. Изображения имеют разрешение 28x28 пикселей.\n",
        "\n",
        "<table>\n",
        "  <tr><td>\n",
        "    <img src=\"https://tensorflow.org/images/fashion-mnist-sprite.png\"\n",
        "         alt=\"Fashion MNIST sprite\"  width=\"600\">\n",
        "  </td></tr>\n",
        "  <tr><td align=\"center\">\n",
        "    <b>Figure 1.</b> <a href=\"https://github.com/zalandoresearch/fashion-mnist\">Fashion-MNIST samples</a> (by Zalando, MIT License).<br/>&nbsp;\n",
        "  </td></tr>\n",
        "</table>\n",
        "\n",
        "Долгое время в машинном обучение для программ Hello world использовался датасет MNIST с рукописными цифрами. Данный датасет призван несколько усложнить задачу распознования но также подходит в качестве программы Hello world.\n",
        "\n",
        "В этом датасете 60 000 тренировочных изображений и 10 000 тестовых."
      ]
    },
    {
      "cell_type": "code",
      "metadata": {
        "id": "7MqDQO0KCaWS"
      },
      "source": [
        "fashion_mnist = keras.datasets.fashion_mnist\n",
        "\n",
        "(train_images, train_labels), (test_images, test_labels) = fashion_mnist.load_data()"
      ],
      "execution_count": null,
      "outputs": []
    },
    {
      "cell_type": "markdown",
      "metadata": {
        "id": "t9FDsUlxCaWW"
      },
      "source": [
        "Датасет содержит следующие классы:\n",
        "\n",
        "<table>\n",
        "  <tr>\n",
        "    <th>Label</th>\n",
        "    <th>Class</th>\n",
        "  </tr>\n",
        "  <tr>\n",
        "    <td>0</td>\n",
        "    <td>T-shirt/top</td>\n",
        "  </tr>\n",
        "  <tr>\n",
        "    <td>1</td>\n",
        "    <td>Trouser</td>\n",
        "  </tr>\n",
        "    <tr>\n",
        "    <td>2</td>\n",
        "    <td>Pullover</td>\n",
        "  </tr>\n",
        "    <tr>\n",
        "    <td>3</td>\n",
        "    <td>Dress</td>\n",
        "  </tr>\n",
        "    <tr>\n",
        "    <td>4</td>\n",
        "    <td>Coat</td>\n",
        "  </tr>\n",
        "    <tr>\n",
        "    <td>5</td>\n",
        "    <td>Sandal</td>\n",
        "  </tr>\n",
        "    <tr>\n",
        "    <td>6</td>\n",
        "    <td>Shirt</td>\n",
        "  </tr>\n",
        "    <tr>\n",
        "    <td>7</td>\n",
        "    <td>Sneaker</td>\n",
        "  </tr>\n",
        "    <tr>\n",
        "    <td>8</td>\n",
        "    <td>Bag</td>\n",
        "  </tr>\n",
        "    <tr>\n",
        "    <td>9</td>\n",
        "    <td>Ankle boot</td>\n",
        "  </tr>\n",
        "</table>\n",
        "\n",
        "Каждому классу обозначенному цифрой мы можем присвоить текстовое значение -"
      ]
    },
    {
      "cell_type": "code",
      "metadata": {
        "id": "IjnLH5S2CaWx"
      },
      "source": [
        "class_names = ['T-shirt/top', 'Trouser', 'Pullover', 'Dress', 'Coat',\n",
        "               'Sandal', 'Shirt', 'Sneaker', 'Bag', 'Ankle boot']"
      ],
      "execution_count": null,
      "outputs": []
    },
    {
      "cell_type": "markdown",
      "metadata": {
        "id": "Brm0b_KACaWX"
      },
      "source": [
        "## Анализ датасета \n",
        "\n",
        "Давайте посмотрим структуры полученного массива данных:"
      ]
    },
    {
      "cell_type": "code",
      "metadata": {
        "id": "zW5k_xz1CaWX"
      },
      "source": [
        "train_images.shape"
      ],
      "execution_count": null,
      "outputs": []
    },
    {
      "cell_type": "code",
      "metadata": {
        "id": "TRFYHB2mCaWb"
      },
      "source": [
        "len(train_labels)"
      ],
      "execution_count": null,
      "outputs": []
    },
    {
      "cell_type": "code",
      "metadata": {
        "id": "XKnCTHz4CaWg"
      },
      "source": [
        "train_labels"
      ],
      "execution_count": null,
      "outputs": []
    },
    {
      "cell_type": "markdown",
      "metadata": {
        "id": "TMPI88iZpO2T"
      },
      "source": [
        "Проанализируем тестовую выборку:"
      ]
    },
    {
      "cell_type": "code",
      "metadata": {
        "id": "2KFnYlcwCaWl"
      },
      "source": [
        "test_images.shape"
      ],
      "execution_count": null,
      "outputs": []
    },
    {
      "cell_type": "code",
      "metadata": {
        "id": "iJmPr5-ACaWn"
      },
      "source": [
        "len(test_labels)"
      ],
      "execution_count": null,
      "outputs": []
    },
    {
      "cell_type": "markdown",
      "metadata": {
        "id": "ES6uQoLKCaWr"
      },
      "source": [
        "## Preprocess the data\n",
        "\n",
        "Давайте взглянем на конкретный пример изображений с помощью matplotlib:"
      ]
    },
    {
      "cell_type": "code",
      "metadata": {
        "id": "m4VEw8Ud9Quh"
      },
      "source": [
        "plt.figure()\n",
        "plt.imshow(train_images[0])\n",
        "plt.colorbar()\n",
        "plt.grid(False)\n",
        "plt.show()"
      ],
      "execution_count": null,
      "outputs": []
    },
    {
      "cell_type": "markdown",
      "metadata": {
        "id": "Wz7l27Lz9S1P"
      },
      "source": [
        "Для процесса обучения нейронной сети нам важно перевести данные из диапазона от 0 до 255 в диапазон от 0 до 1:"
      ]
    },
    {
      "cell_type": "code",
      "metadata": {
        "id": "bW5WzIPlCaWv"
      },
      "source": [
        "train_images = train_images / 255.0\n",
        "\n",
        "test_images = test_images / 255.0"
      ],
      "execution_count": null,
      "outputs": []
    },
    {
      "cell_type": "markdown",
      "metadata": {
        "id": "Ee638AlnCaWz"
      },
      "source": [
        "Посмотрим первые 25 изображений:"
      ]
    },
    {
      "cell_type": "code",
      "metadata": {
        "id": "oZTImqg_CaW1"
      },
      "source": [
        "plt.figure(figsize=(10,10))\n",
        "for i in range(25):\n",
        "    plt.subplot(5,5,i+1)\n",
        "    plt.xticks([])\n",
        "    plt.yticks([])\n",
        "    plt.grid(False)\n",
        "    plt.imshow(train_images[i], cmap=plt.cm.binary)\n",
        "    plt.xlabel(class_names[train_labels[i]])\n",
        "plt.show()"
      ],
      "execution_count": null,
      "outputs": []
    },
    {
      "cell_type": "markdown",
      "metadata": {
        "id": "59veuiEZCaW4"
      },
      "source": [
        "## Построение модели\n",
        "\n",
        "Построение нейронной сети подразумевает конфигурацию ее слоев и последующую компиляцию."
      ]
    },
    {
      "cell_type": "markdown",
      "metadata": {
        "id": "Gxg1XGm0eOBy"
      },
      "source": [
        "### Определение слоев\n",
        "\n",
        "Давайте создадим 3 слоя нейронной сети с помощью функционала Keras.layers"
      ]
    },
    {
      "cell_type": "markdown",
      "source": [
        "**А потом поговорим про Dropout!**"
      ],
      "metadata": {
        "id": "BH_oCdvDAsId"
      }
    },
    {
      "cell_type": "code",
      "metadata": {
        "id": "9ODch-OFCaW4"
      },
      "source": [
        "model = keras.Sequential([\n",
        "    keras.layers.Flatten(input_shape=(28, 28)),\n",
        "    keras.layers.Dense(128, activation='relu'),\n",
        "    keras.layers.Dense(10)\n",
        "])"
      ],
      "execution_count": null,
      "outputs": []
    },
    {
      "cell_type": "markdown",
      "source": [
        ""
      ],
      "metadata": {
        "id": "a27-BUO4AWm9"
      }
    },
    {
      "cell_type": "markdown",
      "metadata": {
        "id": "gut8A_7rCaW6"
      },
      "source": [
        "Первый слой, `tf.keras.layers.Flatten`, трасформирует двумерный массив на входе в одномерный массив.\n",
        "\n",
        "Получившиеся 784(28 x 28) входных нейрона присоединяем к полносвязному слою из 128 нейронов , которые будут использовать функцию активации relu. В выходном слое будет 10 нейронов, по числу классов, которые он должен предсказывать. В нем будет использоваться функция активации softmax и он будет давать предсказание от 0 до 1, где 1 это стопроцентная вероятность.\n",
        "\n",
        "### Компиляция модели\n",
        "\n",
        "Давайте вспомним ключевые понятия, которые нам понадобяться при компиляции:\n",
        "\n",
        "* *Loss function* — меряет как точно работает нейросеть.\n",
        "* *Optimizer* — определяет способ корректировки весов.\n",
        "* *Metrics* — определяет за какие характеристики будут отражаться в процессе обучения."
      ]
    },
    {
      "cell_type": "code",
      "metadata": {
        "id": "Lhan11blCaW7"
      },
      "source": [
        "model.compile(optimizer='adam',\n",
        "              loss=tf.keras.losses.SparseCategoricalCrossentropy(from_logits=True),\n",
        "              metrics=['accuracy'])"
      ],
      "execution_count": null,
      "outputs": []
    },
    {
      "cell_type": "code",
      "source": [
        "tf.keras.losses.SparseCategoricalCrossentropy?"
      ],
      "metadata": {
        "id": "l7O4RzEb13LI"
      },
      "execution_count": null,
      "outputs": []
    },
    {
      "cell_type": "code",
      "source": [
        "tf.keras.losses.CategoricalCrossentropy?"
      ],
      "metadata": {
        "id": "AFSErPaZ13SV"
      },
      "execution_count": null,
      "outputs": []
    },
    {
      "cell_type": "markdown",
      "metadata": {
        "id": "qKF6uW-BCaW-"
      },
      "source": [
        "## Тренировка модели\n",
        "\n",
        "Здесь все стандартно - данные передаются в нейросеть и сопоставляются изображения и лейблы.\n",
        "\n"
      ]
    },
    {
      "cell_type": "markdown",
      "metadata": {
        "id": "Z4P4zIV7E28Z"
      },
      "source": [
        "### Передача данных в модель\n",
        "\n",
        "Команда непосредственно запускающая процесс обучения называется - `model.fit`:"
      ]
    },
    {
      "cell_type": "code",
      "metadata": {
        "id": "xvwvpA64CaW_"
      },
      "source": [
        "model.fit(train_images, train_labels, epochs=5)"
      ],
      "execution_count": null,
      "outputs": []
    },
    {
      "cell_type": "code",
      "metadata": {
        "id": "VflXLEeECaXC"
      },
      "source": [
        "test_loss, test_acc = model.evaluate(test_images,  test_labels, verbose=2)\n",
        "\n",
        "print('\\nTest accuracy:', test_acc)"
      ],
      "execution_count": null,
      "outputs": []
    },
    {
      "cell_type": "markdown",
      "metadata": {
        "id": "_lZfHNYrZejq"
      },
      "source": [
        "В выводе выше мы следим за точностью в процессе обучения, проверяем точность на тестовых даыннх и меняем параметры нейросети если точность на тестовых данных нас не устраивает."
      ]
    },
    {
      "cell_type": "markdown",
      "source": [
        "**Памятка о Softmax:**"
      ],
      "metadata": {
        "id": "OpppzyGa5G81"
      }
    },
    {
      "cell_type": "markdown",
      "source": [
        "$$Softmax = \\frac{e^k}{\\sum_i^K e^i}$$"
      ],
      "metadata": {
        "id": "0hlRpHnBQNgb"
      }
    },
    {
      "cell_type": "markdown",
      "metadata": {
        "id": "v-PyD1SYE28q"
      },
      "source": [
        "### Предсказания нейросети\n",
        "\n",
        "Команды ниже позволяют проверить работу натренированной ранее нейросети - "
      ]
    },
    {
      "cell_type": "code",
      "metadata": {
        "id": "DnfNA0CrQLSD"
      },
      "source": [
        "probability_model = tf.keras.Sequential([model, \n",
        "                                         tf.keras.layers.Softmax()])"
      ],
      "execution_count": null,
      "outputs": []
    },
    {
      "cell_type": "code",
      "metadata": {
        "id": "Gl91RPhdCaXI"
      },
      "source": [
        "predictions = probability_model.predict(test_images)"
      ],
      "execution_count": null,
      "outputs": []
    },
    {
      "cell_type": "code",
      "metadata": {
        "id": "3DmJEUinCaXK"
      },
      "source": [
        "predictions[0]"
      ],
      "execution_count": null,
      "outputs": []
    },
    {
      "cell_type": "code",
      "metadata": {
        "id": "qsqenuPnCaXO"
      },
      "source": [
        "np.argmax(predictions[4])"
      ],
      "execution_count": null,
      "outputs": []
    },
    {
      "cell_type": "code",
      "metadata": {
        "id": "Sd7Pgsu6CaXP"
      },
      "source": [
        "test_labels[4]"
      ],
      "execution_count": null,
      "outputs": []
    },
    {
      "cell_type": "code",
      "metadata": {
        "id": "DvYmmrpIy6Y1"
      },
      "source": [
        "def plot_image(i, predictions_array, true_label, img):\n",
        "  predictions_array, true_label, img = predictions_array, true_label[i], img[i]\n",
        "  plt.grid(False)\n",
        "  plt.xticks([])\n",
        "  plt.yticks([])\n",
        "\n",
        "  plt.imshow(img, cmap=plt.cm.binary)\n",
        "\n",
        "  predicted_label = np.argmax(predictions_array)\n",
        "  if predicted_label == true_label:\n",
        "    color = 'blue'\n",
        "  else:\n",
        "    color = 'red'\n",
        "\n",
        "  plt.xlabel(\"{} {:2.0f}% ({})\".format(class_names[predicted_label],\n",
        "                                100*np.max(predictions_array),\n",
        "                                class_names[true_label]),\n",
        "                                color=color)\n",
        "\n",
        "def plot_value_array(i, predictions_array, true_label):\n",
        "  predictions_array, true_label = predictions_array, true_label[i]\n",
        "  plt.grid(False)\n",
        "  plt.xticks(range(10))\n",
        "  plt.yticks([])\n",
        "  thisplot = plt.bar(range(10), predictions_array, color=\"#777777\")\n",
        "  plt.ylim([0, 1])\n",
        "  predicted_label = np.argmax(predictions_array)\n",
        "\n",
        "  thisplot[predicted_label].set_color('red')\n",
        "  thisplot[true_label].set_color('blue')"
      ],
      "execution_count": null,
      "outputs": []
    },
    {
      "cell_type": "markdown",
      "metadata": {
        "id": "Zh9yABaME29S"
      },
      "source": [
        "### Проверка предсказаний\n",
        "\n",
        "Matplotlib нам дает возможность посмотреть наше предсказание графически:"
      ]
    },
    {
      "cell_type": "code",
      "metadata": {
        "id": "HV5jw-5HwSmO"
      },
      "source": [
        "i = 0\n",
        "plt.figure(figsize=(6,3))\n",
        "plt.subplot(1,2,1)\n",
        "plot_image(i, predictions[i], test_labels, test_images)\n",
        "plt.subplot(1,2,2)\n",
        "plot_value_array(i, predictions[i],  test_labels)\n",
        "plt.show()"
      ],
      "execution_count": null,
      "outputs": []
    },
    {
      "cell_type": "code",
      "metadata": {
        "id": "Ko-uzOufSCSe"
      },
      "source": [
        "i = 12\n",
        "plt.figure(figsize=(6,3))\n",
        "plt.subplot(1,2,1)\n",
        "plot_image(i, predictions[i], test_labels, test_images)\n",
        "plt.subplot(1,2,2)\n",
        "plot_value_array(i, predictions[i],  test_labels)\n",
        "plt.show()"
      ],
      "execution_count": null,
      "outputs": []
    },
    {
      "cell_type": "markdown",
      "metadata": {
        "id": "kgdvGD52CaXR"
      },
      "source": [
        "Давайте сделаем еще несколько предсказаний - "
      ]
    },
    {
      "cell_type": "code",
      "metadata": {
        "id": "hQlnbqaw2Qu_"
      },
      "source": [
        "num_rows = 5\n",
        "num_cols = 3\n",
        "num_images = num_rows*num_cols\n",
        "plt.figure(figsize=(2*2*num_cols, 2*num_rows))\n",
        "for i in range(num_images):\n",
        "  plt.subplot(num_rows, 2*num_cols, 2*i+1)\n",
        "  plot_image(i, predictions[i], test_labels, test_images)\n",
        "  plt.subplot(num_rows, 2*num_cols, 2*i+2)\n",
        "  plot_value_array(i, predictions[i], test_labels)\n",
        "plt.tight_layout()\n",
        "plt.show()"
      ],
      "execution_count": null,
      "outputs": []
    },
    {
      "cell_type": "markdown",
      "metadata": {
        "id": "R32zteKHCaXT"
      },
      "source": [
        "## Использование полученной модели\n",
        "\n",
        "Давайте возьмем одно изображение из тестовой выборке и посмотрим предсказание нейронной сети - "
      ]
    },
    {
      "cell_type": "code",
      "metadata": {
        "id": "yRJ7JU7JCaXT"
      },
      "source": [
        "\n",
        "img = test_images[1]\n",
        "\n",
        "print(img.shape)"
      ],
      "execution_count": null,
      "outputs": []
    },
    {
      "cell_type": "code",
      "metadata": {
        "id": "lDFh5yF_CaXW"
      },
      "source": [
        "# Add the image to a batch where it's the only member.\n",
        "img = (np.expand_dims(img,0))\n",
        "\n",
        "print(img.shape)"
      ],
      "execution_count": null,
      "outputs": []
    },
    {
      "cell_type": "code",
      "metadata": {
        "id": "o_rzNSdrCaXY"
      },
      "source": [
        "predictions_single = probability_model.predict(test_images[:5])\n",
        "\n",
        "print(predictions_single)"
      ],
      "execution_count": null,
      "outputs": []
    },
    {
      "cell_type": "code",
      "metadata": {
        "id": "6Ai-cpLjO-3A"
      },
      "source": [
        "plot_value_array(1, predictions_single[1], test_labels)\n",
        "_ = plt.xticks(range(10), class_names, rotation=45)"
      ],
      "execution_count": null,
      "outputs": []
    },
    {
      "cell_type": "markdown",
      "metadata": {
        "id": "cU1Y2OAMCaXb"
      },
      "source": [
        "`keras.Model.predict` возвращает список списков — по одному списку для каждого предсказания в батче. Нам нужны предсказания только для одного изображения:"
      ]
    },
    {
      "cell_type": "code",
      "metadata": {
        "id": "2tRmdq_8CaXb"
      },
      "source": [
        "np.argmax(predictions_single[1])"
      ],
      "execution_count": null,
      "outputs": []
    },
    {
      "cell_type": "markdown",
      "metadata": {
        "id": "YSXhqsyaZekW"
      },
      "source": [
        "Нейросеть при хорошо подобранных параметрах должна была выдать корректное предсказание"
      ]
    },
    {
      "cell_type": "markdown",
      "source": [
        "**Dropout**\n",
        "\n",
        "Слой, который при обучении умножает на 0 заданную долю данных, которые приходят ему на вход. Результат: борьба с переобучением, лучшая устойчивость модели.\n",
        "На стадии предсказания не используется, просто пропускает через себя все данные без изменений."
      ],
      "metadata": {
        "id": "Vs4c05644gf9"
      }
    },
    {
      "cell_type": "code",
      "source": [
        "model_2 = keras.Sequential([\n",
        "    keras.layers.Flatten(input_shape=(28, 28)),\n",
        "    keras.layers.Dense(128, activation='relu'),\n",
        "    keras.layers.Dense(56, activation='elu'),\n",
        "    keras.layers.Dense(108, activation='relu'),\n",
        "    #keras.layers.Dropout(0.15),\n",
        "    keras.layers.Dense(10, activation='softmax')\n",
        "])"
      ],
      "metadata": {
        "id": "4oUZo7keC9Cb"
      },
      "execution_count": null,
      "outputs": []
    },
    {
      "cell_type": "code",
      "source": [
        "model_2.compile(optimizer = 'adam',\n",
        "                loss = keras.losses.SparseCategoricalCrossentropy(from_logits=True),\n",
        "                metrics = ['accuracy'])"
      ],
      "metadata": {
        "id": "OrdBDdsaXZDu"
      },
      "execution_count": null,
      "outputs": []
    },
    {
      "cell_type": "code",
      "source": [
        "model_2.fit(train_images, train_labels, epochs=6)"
      ],
      "metadata": {
        "id": "v2Ry9y0pXUTF"
      },
      "execution_count": null,
      "outputs": []
    },
    {
      "cell_type": "code",
      "source": [
        "model_2.evaluate(test_images, test_labels)"
      ],
      "metadata": {
        "id": "upHGXR4nY9QE"
      },
      "execution_count": null,
      "outputs": []
    },
    {
      "cell_type": "code",
      "source": [
        "model_3 = keras.Sequential([\n",
        "    keras.layers.Flatten(input_shape=(28, 28)),\n",
        "    keras.layers.Dense(128, activation='relu'),\n",
        "    keras.layers.Dense(56, activation='elu'),\n",
        "    keras.layers.Dense(108, activation='relu'),\n",
        "    keras.layers.Dropout(0.15),\n",
        "    keras.layers.Dense(10, activation='softmax')\n",
        "])"
      ],
      "metadata": {
        "id": "H866rQYEZ1ej"
      },
      "execution_count": null,
      "outputs": []
    },
    {
      "cell_type": "code",
      "source": [
        "model_3.compile(optimizer = 'adam',\n",
        "                loss = keras.losses.SparseCategoricalCrossentropy(from_logits=True),\n",
        "                metrics = ['accuracy'])\n",
        "model_3.fit(test_images, test_labels, epochs=6)"
      ],
      "metadata": {
        "id": "3wjYyQrYZS45"
      },
      "execution_count": null,
      "outputs": []
    },
    {
      "cell_type": "code",
      "source": [
        "model_3.evaluate(test_images, test_labels)"
      ],
      "metadata": {
        "id": "A3pUeWvSaSjG"
      },
      "execution_count": null,
      "outputs": []
    },
    {
      "cell_type": "markdown",
      "source": [
        "**Теперь поговорим о нормализации**"
      ],
      "metadata": {
        "id": "yPwzBZx9C50P"
      }
    },
    {
      "cell_type": "markdown",
      "source": [
        "1. Batch vs Layer \n",
        "2. Работает по-разному на fit и train"
      ],
      "metadata": {
        "id": "TjiVArV3DWwQ"
      }
    },
    {
      "cell_type": "code",
      "source": [
        "x1, x2 = [1, 2, 3], [5, 6, 7]\n",
        "\n",
        "layer-norm:\n",
        "avg(x1) = (1 + 2 + 3) / 3 = 2\n",
        "disp(x1) = sigma\n",
        "x1 = (x1 - avg(x1)) / disp(x1)\n",
        "\n",
        "batch-norm (batch size = 1):\n",
        "feature1 [1, 5]\n",
        "avg(f1) = (1 + 5) / 2 = 3\n",
        "disp(f1) = sigma\n",
        "f1 = (f1 - avg(f1)) / disp(f1)\n",
        "\n",
        "Z-score"
      ],
      "metadata": {
        "id": "y0RmsasmeAu0"
      },
      "execution_count": null,
      "outputs": []
    },
    {
      "cell_type": "code",
      "source": [
        "model_4 = keras.Sequential([\n",
        "    keras.layers.Flatten(input_shape=(28, 28)),\n",
        "    keras.layers.Dense(128, activation='relu'),\n",
        "    keras.layers.BatchNormalization(),\n",
        "    keras.layers.Dense(56, activation='elu'),\n",
        "    keras.layers.Dense(108, activation='relu'),\n",
        "    keras.layers.Dense(10, activation='softmax')\n",
        "])"
      ],
      "metadata": {
        "id": "yBZ7r8zcddmn"
      },
      "execution_count": null,
      "outputs": []
    },
    {
      "cell_type": "code",
      "source": [
        "model_4.compile(optimizer = 'adam',\n",
        "                loss = keras.losses.SparseCategoricalCrossentropy(from_logits=True),\n",
        "                metrics = ['accuracy'])\n",
        "model_4.fit(test_images, test_labels, epochs=6)"
      ],
      "metadata": {
        "id": "i8Olpqh7dms6"
      },
      "execution_count": null,
      "outputs": []
    },
    {
      "cell_type": "code",
      "source": [
        "model_4.evaluate(test_images, test_labels)"
      ],
      "metadata": {
        "id": "Wsg1dy5ZdqY5"
      },
      "execution_count": null,
      "outputs": []
    },
    {
      "cell_type": "code",
      "source": [
        ""
      ],
      "metadata": {
        "id": "kASzntKgfTTU"
      },
      "execution_count": null,
      "outputs": []
    },
    {
      "cell_type": "code",
      "source": [
        "model_5 = keras.Sequential([\n",
        "    keras.layers.Flatten(input_shape=(28, 28)),\n",
        "    keras.layers.Dense(128, activation='relu'),\n",
        "    keras.layers.LayerNormalization(),\n",
        "    keras.layers.Dense(56, activation='elu'),\n",
        "    keras.layers.Dense(108, activation='relu'),\n",
        "    keras.layers.Dense(10, activation='softmax')\n",
        "])\n",
        "\n",
        "model_5.compile(optimizer = 'adam',\n",
        "                loss = keras.losses.SparseCategoricalCrossentropy(from_logits=True),\n",
        "                metrics = ['accuracy'])\n",
        "model_5.fit(test_images, test_labels, epochs=6)"
      ],
      "metadata": {
        "id": "GBUM_BfHd7yE"
      },
      "execution_count": null,
      "outputs": []
    },
    {
      "cell_type": "code",
      "source": [
        "model_5.evaluate(test_images, test_labels)"
      ],
      "metadata": {
        "id": "1AqBzLuDgG1-"
      },
      "execution_count": null,
      "outputs": []
    },
    {
      "cell_type": "markdown",
      "source": [
        "**Если хочется реализовать операцию, которой нет в стандартных слоях, пишут свой класс-слой, наследуя его от keras.layers.Layer**\n"
      ],
      "metadata": {
        "id": "gS5w5rhj4Bdr"
      }
    },
    {
      "cell_type": "code",
      "source": [
        "class My_layer(keras.layers.Layer):\n",
        "  "
      ],
      "metadata": {
        "id": "ACYxoxZrhCu7"
      },
      "execution_count": null,
      "outputs": []
    },
    {
      "cell_type": "code",
      "source": [
        "keras.layers.Layer?"
      ],
      "metadata": {
        "id": "CWLhOHywhL2Z"
      },
      "execution_count": null,
      "outputs": []
    },
    {
      "cell_type": "markdown",
      "source": [
        "**И еще немного о батчах**\n",
        "\n",
        "Зачем они? Какой выбрать размер?"
      ],
      "metadata": {
        "id": "IC685xHZIRS4"
      }
    },
    {
      "cell_type": "markdown",
      "source": [
        "Вычислительные ресурсы оборудования \"урезаются\" за счет того, что часть памяти выделяется под хранение данных, т.е. чем больше батч, тем дольше будет одна итерация обучения модели на батче (т.к. меньше ресурсов остается на тюнинг модели)."
      ],
      "metadata": {
        "id": "NC6kq4Vf3hMD"
      }
    },
    {
      "cell_type": "code",
      "source": [
        "all / batch_size = k \n",
        "epoch ~ k "
      ],
      "metadata": {
        "id": "xKOSMZMNhw32"
      },
      "execution_count": null,
      "outputs": []
    },
    {
      "cell_type": "markdown",
      "source": [
        "Размер батча рекомендуется брать степенью 2, потому как память компьютера (GPU, CPU - неважно) организована бинарно и такой размер будет оптимальным, т.к. не оставляет ресурсов, не занятых хранением данных и вычислительными операциями.\n",
        "Обычно он составляет от 32 до 512, иногда 1024 объекта"
      ],
      "metadata": {
        "id": "clcatAH_2zww"
      }
    },
    {
      "cell_type": "markdown",
      "metadata": {
        "id": "Nvj3uNI9ZekY"
      },
      "source": [
        "## Практическое задание\n",
        "\n",
        "<ol>\n",
        "    <li>1. Попробуйте улучшить работу нейронной сети(разобранную на уроке) обучавшейся на датасет Fashion-MNIST. \n",
        "       Опишите в комментарии к уроку - какого результата вы добились от нейросети? Что помогло вам улучшить ее точность?<br><br>\n",
        "    </li>\n",
        "    \n",
        "    <li>2. Поработайте с документацией TensorFlow 2. Попробуйте найти полезные команды TensorFlow неразобранные на уроке.</li>\n",
        "        \n",
        "    <li>*3. Попробуйте обучить нейронную сеть на TensorFlow 2 на датасете imdb_reviews. Опишите в комментарии к уроку - какой результата вы добились от нейросети? Что помогло вам улучшить ее точность? </li>\n",
        "\n",
        "    \n",
        "    \n",
        "</ol>"
      ]
    },
    {
      "cell_type": "markdown",
      "metadata": {
        "id": "mNwTyMXbZekZ"
      },
      "source": [
        "## Дополнительные материалы\n",
        "\n",
        "<ol>\n",
        "    <li>www.tensorflow.org/api_docs</li>\n",
        "</ol>"
      ]
    },
    {
      "cell_type": "markdown",
      "metadata": {
        "id": "dPRgZ-YHZeka"
      },
      "source": [
        "## Используемая литература \n",
        "\n",
        "Для подготовки данного методического пособия были использованы следующие ресурсы:\n",
        "<ol>\n",
        "    <li>https://www.tensorflow.org/</li>\n",
        "    <li>https://www.tensorflow.org/tutorials/keras/classification</li>\n",
        "    <li>Singh P., Manure A. - Learn TensorFlow 2.0 - 2020</li>\n",
        "    <li>Шакла Н. — Машинное обучение и TensorFlow 2019</li>\n",
        "    <li>Википедия</li>\n",
        "    \n",
        "</ol>"
      ]
    }
  ]
}