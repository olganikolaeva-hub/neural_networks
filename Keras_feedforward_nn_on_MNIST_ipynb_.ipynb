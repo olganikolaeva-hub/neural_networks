{
  "nbformat": 4,
  "nbformat_minor": 0,
  "metadata": {
    "colab": {
      "name": "Копия блокнота \"Keras_ff_on_MNIST.ipynb\"",
      "provenance": [],
      "collapsed_sections": []
    },
    "kernelspec": {
      "name": "python3",
      "display_name": "Python 3"
    },
    "language_info": {
      "name": "python"
    }
  },
  "cells": [
    {
      "cell_type": "markdown",
      "source": [
        "### Обучаем нейронную сеть на датасете MNIST"
      ],
      "metadata": {
        "id": "0B2MyciE5vFA"
      }
    },
    {
      "cell_type": "code",
      "source": [
        "pip install keras"
      ],
      "metadata": {
        "colab": {
          "base_uri": "https://localhost:8080/"
        },
        "id": "8LgKULZUC3PH",
        "outputId": "9e30937c-277f-4062-93c6-1f244280d45e"
      },
      "execution_count": null,
      "outputs": [
        {
          "output_type": "stream",
          "name": "stdout",
          "text": [
            "Looking in indexes: https://pypi.org/simple, https://us-python.pkg.dev/colab-wheels/public/simple/\n",
            "Requirement already satisfied: keras in /usr/local/lib/python3.7/dist-packages (2.8.0)\n"
          ]
        }
      ]
    },
    {
      "cell_type": "code",
      "source": [
        "pip install mnist"
      ],
      "metadata": {
        "colab": {
          "base_uri": "https://localhost:8080/"
        },
        "id": "T5cjgB7dCpgk",
        "outputId": "833ad746-7062-4cb8-e504-7a0ff014b31c"
      },
      "execution_count": null,
      "outputs": [
        {
          "output_type": "stream",
          "name": "stdout",
          "text": [
            "Looking in indexes: https://pypi.org/simple, https://us-python.pkg.dev/colab-wheels/public/simple/\n",
            "Collecting mnist\n",
            "  Downloading mnist-0.2.2-py2.py3-none-any.whl (3.5 kB)\n",
            "Requirement already satisfied: numpy in /usr/local/lib/python3.7/dist-packages (from mnist) (1.21.6)\n",
            "Installing collected packages: mnist\n",
            "Successfully installed mnist-0.2.2\n"
          ]
        }
      ]
    },
    {
      "cell_type": "code",
      "source": [
        "!pip install keras.utils.to_categorical"
      ],
      "metadata": {
        "colab": {
          "base_uri": "https://localhost:8080/"
        },
        "id": "7YrlbnVI9cD7",
        "outputId": "b419b461-d3d6-4dc4-c1dc-9fe9054c8e5a"
      },
      "execution_count": null,
      "outputs": [
        {
          "output_type": "stream",
          "name": "stdout",
          "text": [
            "Looking in indexes: https://pypi.org/simple, https://us-python.pkg.dev/colab-wheels/public/simple/\n",
            "\u001b[31mERROR: Could not find a version that satisfies the requirement keras.utils.to_categorical (from versions: none)\u001b[0m\n",
            "\u001b[31mERROR: No matching distribution found for keras.utils.to_categorical\u001b[0m\n"
          ]
        }
      ]
    },
    {
      "cell_type": "code",
      "source": [
        "#Импортируем необходимые библиотеки и данные из датасета MNIST, в котором содержатся 70000 изображений рукописных цифр, размером 28 на 28 пикселей.\n",
        "#На тестовый датасет и тренировочный они поделены автоматически.\n",
        "import numpy as np\n",
        "import mnist\n",
        "import matplotlib.pyplot as plt\n",
        "import keras\n",
        "from keras.models import Sequential\n",
        "from keras.layers import Dense\n",
        "#from keras.utils import to_categorical\n",
        "from tensorflow.keras.utils import to_categorical"
      ],
      "metadata": {
        "id": "cPg9gbu0DEfw"
      },
      "execution_count": null,
      "outputs": []
    },
    {
      "cell_type": "code",
      "execution_count": null,
      "metadata": {
        "colab": {
          "base_uri": "https://localhost:8080/"
        },
        "id": "sFBb1rKQ_ICF",
        "outputId": "d3ebe7c4-c37e-4116-d5a8-bfa61e6122d5"
      },
      "outputs": [
        {
          "output_type": "stream",
          "name": "stdout",
          "text": [
            "(60000, 28, 28)\n",
            "(60000,)\n",
            "(10000, 28, 28)\n",
            "(10000,)\n"
          ]
        }
      ],
      "source": [
        "train_images = mnist.train_images()\n",
        "train_labels = mnist.train_labels()\n",
        "test_images = mnist.test_images()\n",
        "test_labels = mnist.test_labels()\n",
        "\n",
        "print(train_images.shape) # (60000, 28, 28)\n",
        "print(train_labels.shape) # (60000,)\n",
        "print(test_images.shape) # (10000, 28, 28)\n",
        "print(test_labels.shape) # (60000,)"
      ]
    },
    {
      "cell_type": "code",
      "source": [
        "plt.imshow(mnist.train_images()[0])"
      ],
      "metadata": {
        "colab": {
          "base_uri": "https://localhost:8080/",
          "height": 282
        },
        "id": "_ELyJAf8Djd2",
        "outputId": "d72bcdc5-61bd-4c3c-86ff-7f1d8246ce5a"
      },
      "execution_count": null,
      "outputs": [
        {
          "output_type": "execute_result",
          "data": {
            "text/plain": [
              "<matplotlib.image.AxesImage at 0x7f117d7ee550>"
            ]
          },
          "metadata": {},
          "execution_count": 84
        },
        {
          "output_type": "display_data",
          "data": {
            "text/plain": [
              "<Figure size 432x288 with 1 Axes>"
            ],
            "image/png": "[encoded data removed]"
          },
          "metadata": {
            "needs_background": "light"
          }
        }
      ]
    },
    {
      "cell_type": "code",
      "source": [
        "mnist.train_labels()[0]"
      ],
      "metadata": {
        "colab": {
          "base_uri": "https://localhost:8080/"
        },
        "id": "WCedORYcDo2N",
        "outputId": "26aef418-0399-4685-aa5c-b5dfb18bb9c5"
      },
      "execution_count": null,
      "outputs": [
        {
          "output_type": "execute_result",
          "data": {
            "text/plain": [
              "5"
            ]
          },
          "metadata": {},
          "execution_count": 85
        }
      ]
    },
    {
      "cell_type": "code",
      "source": [
        "#Изображение в цифровом виде выглядит следующим образом:\n",
        "mnist.train_images()[0]"
      ],
      "metadata": {
        "colab": {
          "base_uri": "https://localhost:8080/"
        },
        "id": "84QKKFYM7Dzb",
        "outputId": "4c645d6b-2b43-4e57-a8d3-9a1e925a8547"
      },
      "execution_count": null,
      "outputs": [
        {
          "output_type": "execute_result",
          "data": {
            "text/plain": [
              "array([[  0,   0,   0,   0,   0,   0,   0,   0,   0,   0,   0,   0,   0,\n",
              "          0,   0,   0,   0,   0,   0,   0,   0,   0,   0,   0,   0,   0,\n",
              "          0,   0],\n",
              "       [  0,   0,   0,   0,   0,   0,   0,   0,   0,   0,   0,   0,   0,\n",
              "          0,   0,   0,   0,   0,   0,   0,   0,   0,   0,   0,   0,   0,\n",
              "          0,   0],\n",
              "       [  0,   0,   0,   0,   0,   0,   0,   0,   0,   0,   0,   0,   0,\n",
              "          0,   0,   0,   0,   0,   0,   0,   0,   0,   0,   0,   0,   0,\n",
              "          0,   0],\n",
              "       [  0,   0,   0,   0,   0,   0,   0,   0,   0,   0,   0,   0,   0,\n",
              "          0,   0,   0,   0,   0,   0,   0,   0,   0,   0,   0,   0,   0,\n",
              "          0,   0],\n",
              "       [  0,   0,   0,   0,   0,   0,   0,   0,   0,   0,   0,   0,   0,\n",
              "          0,   0,   0,   0,   0,   0,   0,   0,   0,   0,   0,   0,   0,\n",
              "          0,   0],\n",
              "       [  0,   0,   0,   0,   0,   0,   0,   0,   0,   0,   0,   0,   3,\n",
              "         18,  18,  18, 126, 136, 175,  26, 166, 255, 247, 127,   0,   0,\n",
              "          0,   0],\n",
              "       [  0,   0,   0,   0,   0,   0,   0,   0,  30,  36,  94, 154, 170,\n",
              "        253, 253, 253, 253, 253, 225, 172, 253, 242, 195,  64,   0,   0,\n",
              "          0,   0],\n",
              "       [  0,   0,   0,   0,   0,   0,   0,  49, 238, 253, 253, 253, 253,\n",
              "        253, 253, 253, 253, 251,  93,  82,  82,  56,  39,   0,   0,   0,\n",
              "          0,   0],\n",
              "       [  0,   0,   0,   0,   0,   0,   0,  18, 219, 253, 253, 253, 253,\n",
              "        253, 198, 182, 247, 241,   0,   0,   0,   0,   0,   0,   0,   0,\n",
              "          0,   0],\n",
              "       [  0,   0,   0,   0,   0,   0,   0,   0,  80, 156, 107, 253, 253,\n",
              "        205,  11,   0,  43, 154,   0,   0,   0,   0,   0,   0,   0,   0,\n",
              "          0,   0],\n",
              "       [  0,   0,   0,   0,   0,   0,   0,   0,   0,  14,   1, 154, 253,\n",
              "         90,   0,   0,   0,   0,   0,   0,   0,   0,   0,   0,   0,   0,\n",
              "          0,   0],\n",
              "       [  0,   0,   0,   0,   0,   0,   0,   0,   0,   0,   0, 139, 253,\n",
              "        190,   2,   0,   0,   0,   0,   0,   0,   0,   0,   0,   0,   0,\n",
              "          0,   0],\n",
              "       [  0,   0,   0,   0,   0,   0,   0,   0,   0,   0,   0,  11, 190,\n",
              "        253,  70,   0,   0,   0,   0,   0,   0,   0,   0,   0,   0,   0,\n",
              "          0,   0],\n",
              "       [  0,   0,   0,   0,   0,   0,   0,   0,   0,   0,   0,   0,  35,\n",
              "        241, 225, 160, 108,   1,   0,   0,   0,   0,   0,   0,   0,   0,\n",
              "          0,   0],\n",
              "       [  0,   0,   0,   0,   0,   0,   0,   0,   0,   0,   0,   0,   0,\n",
              "         81, 240, 253, 253, 119,  25,   0,   0,   0,   0,   0,   0,   0,\n",
              "          0,   0],\n",
              "       [  0,   0,   0,   0,   0,   0,   0,   0,   0,   0,   0,   0,   0,\n",
              "          0,  45, 186, 253, 253, 150,  27,   0,   0,   0,   0,   0,   0,\n",
              "          0,   0],\n",
              "       [  0,   0,   0,   0,   0,   0,   0,   0,   0,   0,   0,   0,   0,\n",
              "          0,   0,  16,  93, 252, 253, 187,   0,   0,   0,   0,   0,   0,\n",
              "          0,   0],\n",
              "       [  0,   0,   0,   0,   0,   0,   0,   0,   0,   0,   0,   0,   0,\n",
              "          0,   0,   0,   0, 249, 253, 249,  64,   0,   0,   0,   0,   0,\n",
              "          0,   0],\n",
              "       [  0,   0,   0,   0,   0,   0,   0,   0,   0,   0,   0,   0,   0,\n",
              "          0,  46, 130, 183, 253, 253, 207,   2,   0,   0,   0,   0,   0,\n",
              "          0,   0],\n",
              "       [  0,   0,   0,   0,   0,   0,   0,   0,   0,   0,   0,   0,  39,\n",
              "        148, 229, 253, 253, 253, 250, 182,   0,   0,   0,   0,   0,   0,\n",
              "          0,   0],\n",
              "       [  0,   0,   0,   0,   0,   0,   0,   0,   0,   0,  24, 114, 221,\n",
              "        253, 253, 253, 253, 201,  78,   0,   0,   0,   0,   0,   0,   0,\n",
              "          0,   0],\n",
              "       [  0,   0,   0,   0,   0,   0,   0,   0,  23,  66, 213, 253, 253,\n",
              "        253, 253, 198,  81,   2,   0,   0,   0,   0,   0,   0,   0,   0,\n",
              "          0,   0],\n",
              "       [  0,   0,   0,   0,   0,   0,  18, 171, 219, 253, 253, 253, 253,\n",
              "        195,  80,   9,   0,   0,   0,   0,   0,   0,   0,   0,   0,   0,\n",
              "          0,   0],\n",
              "       [  0,   0,   0,   0,  55, 172, 226, 253, 253, 253, 253, 244, 133,\n",
              "         11,   0,   0,   0,   0,   0,   0,   0,   0,   0,   0,   0,   0,\n",
              "          0,   0],\n",
              "       [  0,   0,   0,   0, 136, 253, 253, 253, 212, 135, 132,  16,   0,\n",
              "          0,   0,   0,   0,   0,   0,   0,   0,   0,   0,   0,   0,   0,\n",
              "          0,   0],\n",
              "       [  0,   0,   0,   0,   0,   0,   0,   0,   0,   0,   0,   0,   0,\n",
              "          0,   0,   0,   0,   0,   0,   0,   0,   0,   0,   0,   0,   0,\n",
              "          0,   0],\n",
              "       [  0,   0,   0,   0,   0,   0,   0,   0,   0,   0,   0,   0,   0,\n",
              "          0,   0,   0,   0,   0,   0,   0,   0,   0,   0,   0,   0,   0,\n",
              "          0,   0],\n",
              "       [  0,   0,   0,   0,   0,   0,   0,   0,   0,   0,   0,   0,   0,\n",
              "          0,   0,   0,   0,   0,   0,   0,   0,   0,   0,   0,   0,   0,\n",
              "          0,   0]], dtype=uint8)"
            ]
          },
          "metadata": {},
          "execution_count": 86
        }
      ]
    },
    {
      "cell_type": "code",
      "source": [
        "# Normalize the images.\n",
        "# Конвертируем значения пикселей из вида от 1 до 255 в набор значений от -0.5 до 0.5\n",
        "train_images = (train_images / 255) - 0.5\n",
        "test_images = (test_images / 255) - 0.5\n",
        "\n",
        "# Flatten the images.\n",
        "train_images = train_images.reshape((-1, 784))\n",
        "test_images = test_images.reshape((-1, 784))"
      ],
      "metadata": {
        "id": "j9D-X6_VCOR0"
      },
      "execution_count": null,
      "outputs": []
    },
    {
      "cell_type": "code",
      "source": [
        "# Build the model.\n",
        "# Выбираем модель исходя из их архитектуры, мы пока работаем с сетями feed forward:\n",
        "# Cлои определяются модулем layers вот так: from keras.layers import Dense\n",
        "# Модуль sequentional позволяет ставить слои как последовательные блоки:\n",
        "model = Sequential([\n",
        "  Dense(64, activation='relu', input_shape=(784,)),  #аргумент input_shape задает вид входных данных, необходим для 1-го слоя. альтерантивно можно создать отдельный слой inout перед первым полносвязным\n",
        "  Dense(64, activation='relu'),\n",
        "  Dense(10, activation='softmax'),\n",
        "])\n",
        "\n",
        "model2 = Sequential([\n",
        "  Dense(128, activation='relu', input_shape=(784,)), \n",
        "  Dense(10, activation='softmax'),\n",
        "])\n",
        "\n",
        "model3 = Sequential([\n",
        "  Dense(64, activation='relu', input_shape=(784,)), \n",
        "  Dense(10, activation='softmax'),\n",
        "])"
      ],
      "metadata": {
        "id": "ErMn4SbCCSxB"
      },
      "execution_count": null,
      "outputs": []
    },
    {
      "cell_type": "code",
      "source": [
        "# Compile the model.\n",
        "# Для того, чтобы скомпилировать модель, чтобы сделать ее обучаемой, мы должны задать loss функцию, оптимизатор и метрику,\n",
        "# по которой будем смотреть, насколько хорошо обучилась модель.\n",
        "# Adam - одна из версий градиентного спуска \n",
        "model.compile(\n",
        "  optimizer='adam',\n",
        "  loss='categorical_crossentropy',\n",
        "  metrics=['accuracy'],\n",
        ")\n",
        "\n",
        "model2.compile(\n",
        "  optimizer='adam',\n",
        "  loss='categorical_crossentropy',\n",
        "  metrics=['accuracy'],\n",
        ")\n",
        "\n",
        "model3.compile(\n",
        "  optimizer='adam',\n",
        "  loss='categorical_crossentropy',\n",
        "  metrics=['accuracy'],\n",
        ")"
      ],
      "metadata": {
        "id": "JMN-7SAKCUyX"
      },
      "execution_count": null,
      "outputs": []
    },
    {
      "cell_type": "code",
      "source": [
        "# Train the model.\n",
        "# Хотим экономить ресурсы, время вычисления и считать градиент по батчу.\n",
        "# Идея та же, что и в стохастическом градиентном спускае: берем подмножество и обучаемся на нем, в каждую эпоху это подмножество определяется заново:\n",
        "# Запишем результат в history:\n",
        "\n",
        "history = model.fit(\n",
        "  train_images,\n",
        "  to_categorical(train_labels),\n",
        "  epochs=5,\n",
        "  batch_size=32,\n",
        ")\n",
        "\n",
        "history2 = model2.fit(\n",
        "  train_images,\n",
        "  to_categorical(train_labels),\n",
        "  epochs=3,\n",
        "  batch_size=32,\n",
        ")\n",
        "\n",
        "history3 = model3.fit(\n",
        "  train_images,\n",
        "  to_categorical(train_labels),\n",
        "  epochs=10,\n",
        "  batch_size=32,\n",
        ")"
      ],
      "metadata": {
        "colab": {
          "base_uri": "https://localhost:8080/"
        },
        "id": "72YpH1F1CWw-",
        "outputId": "30036356-fd62-41c8-c5d0-000723bd6e01"
      },
      "execution_count": null,
      "outputs": [
        {
          "output_type": "stream",
          "name": "stdout",
          "text": [
            "Epoch 1/5\n",
            "1875/1875 [==============================] - 5s 2ms/step - loss: 0.3707 - accuracy: 0.8887\n",
            "Epoch 2/5\n",
            "1875/1875 [==============================] - 5s 2ms/step - loss: 0.1918 - accuracy: 0.9416\n",
            "Epoch 3/5\n",
            "1875/1875 [==============================] - 4s 2ms/step - loss: 0.1477 - accuracy: 0.9550\n",
            "Epoch 4/5\n",
            "1875/1875 [==============================] - 4s 2ms/step - loss: 0.1261 - accuracy: 0.9612\n",
            "Epoch 5/5\n",
            "1875/1875 [==============================] - 4s 2ms/step - loss: 0.1118 - accuracy: 0.9657\n",
            "Epoch 1/3\n",
            "1875/1875 [==============================] - 5s 3ms/step - loss: 0.3385 - accuracy: 0.9001\n",
            "Epoch 2/3\n",
            "1875/1875 [==============================] - 5s 2ms/step - loss: 0.1746 - accuracy: 0.9480\n",
            "Epoch 3/3\n",
            "1875/1875 [==============================] - 5s 3ms/step - loss: 0.1287 - accuracy: 0.9613\n",
            "Epoch 1/10\n",
            "1875/1875 [==============================] - 5s 2ms/step - loss: 0.3887 - accuracy: 0.8856\n",
            "Epoch 2/10\n",
            "1875/1875 [==============================] - 4s 2ms/step - loss: 0.2273 - accuracy: 0.9325\n",
            "Epoch 3/10\n",
            "1875/1875 [==============================] - 4s 2ms/step - loss: 0.1666 - accuracy: 0.9504\n",
            "Epoch 4/10\n",
            "1875/1875 [==============================] - 4s 2ms/step - loss: 0.1365 - accuracy: 0.9595\n",
            "Epoch 5/10\n",
            "1875/1875 [==============================] - 5s 3ms/step - loss: 0.1169 - accuracy: 0.9645\n",
            "Epoch 6/10\n",
            "1875/1875 [==============================] - 4s 2ms/step - loss: 0.1034 - accuracy: 0.9689\n",
            "Epoch 7/10\n",
            "1875/1875 [==============================] - 4s 2ms/step - loss: 0.0939 - accuracy: 0.9717\n",
            "Epoch 8/10\n",
            "1875/1875 [==============================] - 4s 2ms/step - loss: 0.0850 - accuracy: 0.9736\n",
            "Epoch 9/10\n",
            "1875/1875 [==============================] - 4s 2ms/step - loss: 0.0795 - accuracy: 0.9748\n",
            "Epoch 10/10\n",
            "1875/1875 [==============================] - 4s 2ms/step - loss: 0.0757 - accuracy: 0.9761\n"
          ]
        }
      ]
    },
    {
      "cell_type": "code",
      "source": [
        "fig, axes = plt.subplots(3, figsize=(16,8))\n",
        "axes[0].plot(history.history['accuracy'])\n",
        "axes[0].set_title('Нейросеть, состоящая из 3х слоев')\n",
        "\n",
        "axes[1].plot(history2.history['accuracy'])\n",
        "axes[1].set_title('Нейросеть, состоящая из 2х слоев')\n",
        "\n",
        "axes[2].plot(history2.history['accuracy'])\n",
        "axes[2].set_title('Нейросеть, состоящая из 2х слоев')"
      ],
      "metadata": {
        "colab": {
          "base_uri": "https://localhost:8080/",
          "height": 516
        },
        "id": "CssyZl4a-02i",
        "outputId": "8a61d167-7345-4b48-b326-eb6173ed6b38"
      },
      "execution_count": null,
      "outputs": [
        {
          "output_type": "execute_result",
          "data": {
            "text/plain": [
              "Text(0.5, 1.0, 'Нейросеть, состоящая из 2х слоев')"
            ]
          },
          "metadata": {},
          "execution_count": 91
        },
        {
          "output_type": "display_data",
          "data": {
            "text/plain": [
              "<Figure size 1152x576 with 3 Axes>"
            ],
            "image/png": "[encoded data removed]"
          },
          "metadata": {
            "needs_background": "light"
          }
        }
      ]
    },
    {
      "cell_type": "code",
      "source": [
        "# Evaluate the model.\n",
        "model.evaluate(\n",
        "  test_images,\n",
        "  to_categorical(test_labels)\n",
        ")\n"
      ],
      "metadata": {
        "colab": {
          "base_uri": "https://localhost:8080/"
        },
        "id": "7SNxi86yCYvF",
        "outputId": "8f041b40-e71c-4a09-cc07-d0561335339e"
      },
      "execution_count": null,
      "outputs": [
        {
          "output_type": "stream",
          "name": "stdout",
          "text": [
            "313/313 [==============================] - 1s 2ms/step - loss: 0.1228 - accuracy: 0.9623\n"
          ]
        },
        {
          "output_type": "execute_result",
          "data": {
            "text/plain": [
              "[0.12284151464700699, 0.9623000025749207]"
            ]
          },
          "metadata": {},
          "execution_count": 92
        }
      ]
    },
    {
      "cell_type": "code",
      "source": [
        "# Evaluate the model.\n",
        "model2.evaluate(\n",
        "  test_images,\n",
        "  to_categorical(test_labels)\n",
        ")"
      ],
      "metadata": {
        "colab": {
          "base_uri": "https://localhost:8080/"
        },
        "id": "m9JXnBDbI0z4",
        "outputId": "edb798e7-e25b-483e-f497-fc2c83aa4b82"
      },
      "execution_count": null,
      "outputs": [
        {
          "output_type": "stream",
          "name": "stdout",
          "text": [
            "313/313 [==============================] - 1s 2ms/step - loss: 0.1100 - accuracy: 0.9681\n"
          ]
        },
        {
          "output_type": "execute_result",
          "data": {
            "text/plain": [
              "[0.10996246337890625, 0.9681000113487244]"
            ]
          },
          "metadata": {},
          "execution_count": 93
        }
      ]
    },
    {
      "cell_type": "code",
      "source": [
        "#Лучше всего на тестовой выборке показала себя третья модель с наибольшим количеством эпох, наименьшим количеством нейронов и 2мя слоями. В этой модели размерность\n",
        "#вектора настраиваемых параметров оказалась наименьшей по сравнению с 2мя предыдущими моделями: 50,890 \n",
        "model3.evaluate(\n",
        "  test_images,\n",
        "  to_categorical(test_labels)\n",
        ")\n"
      ],
      "metadata": {
        "colab": {
          "base_uri": "https://localhost:8080/"
        },
        "id": "JDTff0eMIvgM",
        "outputId": "3bfcd90e-1bb0-48a1-8e89-4b9ecf41f9c7"
      },
      "execution_count": null,
      "outputs": [
        {
          "output_type": "stream",
          "name": "stdout",
          "text": [
            "313/313 [==============================] - 1s 2ms/step - loss: 0.1085 - accuracy: 0.9683\n"
          ]
        },
        {
          "output_type": "execute_result",
          "data": {
            "text/plain": [
              "[0.10854054987430573, 0.9682999849319458]"
            ]
          },
          "metadata": {},
          "execution_count": 94
        }
      ]
    },
    {
      "cell_type": "code",
      "source": [
        "model3.summary()"
      ],
      "metadata": {
        "colab": {
          "base_uri": "https://localhost:8080/"
        },
        "id": "N3AfN4ggJevs",
        "outputId": "5db48845-8646-4b0a-984d-dfa15ed75d6f"
      },
      "execution_count": null,
      "outputs": [
        {
          "output_type": "stream",
          "name": "stdout",
          "text": [
            "Model: \"sequential_12\"\n",
            "_________________________________________________________________\n",
            " Layer (type)                Output Shape              Param #   \n",
            "=================================================================\n",
            " dense_32 (Dense)            (None, 64)                50240     \n",
            "                                                                 \n",
            " dense_33 (Dense)            (None, 10)                650       \n",
            "                                                                 \n",
            "=================================================================\n",
            "Total params: 50,890\n",
            "Trainable params: 50,890\n",
            "Non-trainable params: 0\n",
            "_________________________________________________________________\n"
          ]
        }
      ]
    },
    {
      "cell_type": "code",
      "source": [
        "#Попробуем feature_extractor для лучшей модели model3:\n",
        "feature_extractor = keras.Model(\n",
        "    inputs=model3.inputs,\n",
        "    outputs=[layer.output for layer in model3.layers],\n",
        ")"
      ],
      "metadata": {
        "id": "WMW2MjCAZapN"
      },
      "execution_count": null,
      "outputs": []
    },
    {
      "cell_type": "code",
      "source": [
        "# Call feature extractor on test input: кол-во фичей, которые мы подаем на вход выходному слою - 64. Равно кол-ву нейроном, используемых во внутреннем слое:\n",
        "features = feature_extractor(mnist.train_images()[0].reshape((-1, 784)))\n",
        "features"
      ],
      "metadata": {
        "colab": {
          "base_uri": "https://localhost:8080/"
        },
        "id": "uhwyljylZ6mb",
        "outputId": "1809586d-64e1-468f-e9dc-1250e3ba0cc7"
      },
      "execution_count": null,
      "outputs": [
        {
          "output_type": "execute_result",
          "data": {
            "text/plain": [
              "[<tf.Tensor: shape=(1, 64), dtype=float32, numpy=\n",
              " array([[  95.39737 ,    0.      , 1414.3794  ,  226.12445 ,    0.      ,\n",
              "            0.      ,    5.168574,   80.88375 ,  935.26984 ,  294.61917 ,\n",
              "            0.      ,  174.72318 , 2191.7651  ,    0.      ,  367.0525  ,\n",
              "           89.213165,    0.      ,  665.54407 ,  214.63261 ,    0.      ,\n",
              "          147.5743  , 1872.0977  , 1145.8971  ,    0.      ,  294.57294 ,\n",
              "            0.      ,    0.      , 2253.0654  , 1649.2548  ,  782.34247 ,\n",
              "         2427.281   , 2415.756   ,  463.89008 ,  925.5567  ,    0.      ,\n",
              "          168.73654 ,  220.09634 ,    0.      ,    0.      ,    0.      ,\n",
              "          124.23968 ,    0.      , 1859.7876  ,  167.04092 , 2162.807   ,\n",
              "           61.570248,    0.      ,    0.      ,    0.      ,    0.      ,\n",
              "          646.9277  ,    0.      ,   68.699844,  282.29108 ,  145.38692 ,\n",
              "            0.      ,    0.      ,  862.05457 ,    0.      ,  503.12326 ,\n",
              "            0.      ,    0.      ,  102.54655 ,    0.      ]],\n",
              "       dtype=float32)>,\n",
              " <tf.Tensor: shape=(1, 10), dtype=float32, numpy=array([[0., 0., 0., 0., 0., 1., 0., 0., 0., 0.]], dtype=float32)>]"
            ]
          },
          "metadata": {},
          "execution_count": 106
        }
      ]
    },
    {
      "cell_type": "code",
      "source": [
        "#Попробуем feature_extractor для модели model2: в этой модели в 2 раза больше фичей\n",
        "feature_extractor = keras.Model(\n",
        "    inputs=model2.inputs,\n",
        "    outputs=[layer.output for layer in model2.layers],\n",
        ")\n",
        "features = feature_extractor(mnist.train_images()[0].reshape((-1, 784)))\n",
        "features"
      ],
      "metadata": {
        "colab": {
          "base_uri": "https://localhost:8080/"
        },
        "id": "1nN_3AyWbmxo",
        "outputId": "dacd25fc-4130-411f-d380-52f0b8bff92b"
      },
      "execution_count": null,
      "outputs": [
        {
          "output_type": "execute_result",
          "data": {
            "text/plain": [
              "[<tf.Tensor: shape=(1, 128), dtype=float32, numpy=\n",
              " array([[   0.       ,    0.       ,   45.938633 ,  142.53886  ,\n",
              "            0.       ,  312.0347   ,    0.       ,  255.7402   ,\n",
              "            0.       ,  216.67473  ,    0.       ,    0.       ,\n",
              "          138.29997  ,  269.1309   ,   33.834522 ,    0.       ,\n",
              "          225.45969  ,    0.       ,    0.       ,    0.       ,\n",
              "            0.       ,    0.       ,  750.104    , 1446.8724   ,\n",
              "            0.       ,   95.0137   ,  148.17606  ,    0.       ,\n",
              "           90.36282  ,  227.76212  ,  213.686    ,  535.3992   ,\n",
              "            0.       ,    0.       ,  444.1854   ,  256.98364  ,\n",
              "         2214.1838   , 1697.3599   ,   70.446365 ,   40.863605 ,\n",
              "          140.13489  ,  149.05905  ,    0.       ,  832.8189   ,\n",
              "          145.50696  ,    0.       ,   74.19589  ,    0.       ,\n",
              "            0.       ,    0.       ,  138.17296  ,    0.       ,\n",
              "          124.07321  ,    0.       ,    0.       ,  423.89294  ,\n",
              "           16.809372 , 1093.5364   ,    0.       ,    0.       ,\n",
              "            0.       ,  197.07913  ,    7.4873033,   87.322174 ,\n",
              "            0.       ,  184.25604  ,    0.       ,  198.00096  ,\n",
              "          912.28864  ,    0.       ,   91.037796 ,    0.       ,\n",
              "          378.91122  ,  181.99074  ,  261.61493  ,    0.       ,\n",
              "            0.       ,    0.       ,    0.       ,    0.       ,\n",
              "            0.       ,   68.6745   ,  383.66782  ,  265.03668  ,\n",
              "            0.       ,    0.       ,    0.       ,  181.09103  ,\n",
              "          114.40203  ,    0.       ,    0.       ,    0.       ,\n",
              "           83.67777  ,  102.33711  ,  794.2462   ,   69.733154 ,\n",
              "         1455.9053   ,    0.       ,    5.6528373, 1110.0686   ,\n",
              "         1089.786    ,  176.90826  ,    0.       ,  213.57948  ,\n",
              "            0.       ,   83.79131  ,   10.67534  ,    0.       ,\n",
              "          285.00922  ,   36.65914  ,  333.75732  ,    0.       ,\n",
              "            0.       ,  529.41943  ,  632.33124  ,   37.018967 ,\n",
              "            0.       ,    0.       ,  230.99873  , 1548.2683   ,\n",
              "           72.6512   ,  160.15092  ,  112.26618  , 1386.1986   ,\n",
              "          247.87576  ,    0.       ,    0.       ,    0.       ]],\n",
              "       dtype=float32)>,\n",
              " <tf.Tensor: shape=(1, 10), dtype=float32, numpy=array([[0., 0., 0., 0., 0., 1., 0., 0., 0., 0.]], dtype=float32)>]"
            ]
          },
          "metadata": {},
          "execution_count": 108
        }
      ]
    },
    {
      "cell_type": "code",
      "source": [
        "#Теперь посмотрим на кол-во весов: странно....ведь модель состоит из одного входного слоя, одного внутреннего слоя и одного выходного.\n",
        "for i, w in enumerate(model3.weights):\n",
        "    print(f\"Number of weights after calling the model in {i} layer is:\", len(w.numpy())) "
      ],
      "metadata": {
        "colab": {
          "base_uri": "https://localhost:8080/"
        },
        "id": "6eKCt1oLca9x",
        "outputId": "5d99999f-323f-445d-f666-f24951f28ed6"
      },
      "execution_count": null,
      "outputs": [
        {
          "output_type": "stream",
          "name": "stdout",
          "text": [
            "Number of weights after calling the model in 0 layer is: 784\n",
            "Number of weights after calling the model in 1 layer is: 64\n",
            "Number of weights after calling the model in 2 layer is: 64\n",
            "Number of weights after calling the model in 3 layer is: 10\n"
          ]
        }
      ]
    },
    {
      "cell_type": "code",
      "source": [
        "model3.layers"
      ],
      "metadata": {
        "colab": {
          "base_uri": "https://localhost:8080/"
        },
        "id": "owCY4SjQee_w",
        "outputId": "2f8e9b74-eb55-4f35-f546-adb44353c66b"
      },
      "execution_count": null,
      "outputs": [
        {
          "output_type": "execute_result",
          "data": {
            "text/plain": [
              "[<keras.layers.core.dense.Dense at 0x7f117d8abb10>,\n",
              " <keras.layers.core.dense.Dense at 0x7f117d7eec10>]"
            ]
          },
          "metadata": {},
          "execution_count": 119
        }
      ]
    },
    {
      "cell_type": "code",
      "source": [
        "# Save the model to disk.\n",
        "model.save_weights('model.h5')\n",
        "\n",
        "# Load the model from disk later using:\n",
        "# model.load_weights('model.h5')\n",
        "\n",
        "# Predict on the first 5 test images.\n",
        "predictions = model.predict(test_images[:5])\n",
        "print(predictions)\n",
        "\n",
        "# Print our model's predictions.\n",
        "print(np.argmax(predictions, axis=1)) # [7, 2, 1, 0, 4]\n",
        "\n",
        "# Check our predictions against the ground truths.\n",
        "print(test_labels[:5]) # [7, 2, 1, 0, 4]"
      ],
      "metadata": {
        "colab": {
          "base_uri": "https://localhost:8080/"
        },
        "id": "qs0YcjaxCa7b",
        "outputId": "00b30431-5684-4930-ef4f-920a16bccceb"
      },
      "execution_count": null,
      "outputs": [
        {
          "output_type": "stream",
          "name": "stdout",
          "text": [
            "[[3.45828937e-07 6.96047027e-06 1.55306060e-03 8.21772701e-05\n",
            "  5.09092413e-09 1.05944873e-05 2.21332479e-12 9.98307347e-01\n",
            "  8.22615948e-06 3.11881449e-05]\n",
            " [7.75429854e-09 6.90311717e-04 9.99244690e-01 6.37126577e-05\n",
            "  1.62137068e-12 3.10830927e-07 2.45761868e-07 1.28970932e-08\n",
            "  7.64405229e-07 3.30522935e-13]\n",
            " [4.83416045e-07 9.99911070e-01 9.91810248e-06 1.52284679e-06\n",
            "  1.07270025e-05 5.77307537e-06 3.67752136e-06 4.69610750e-05\n",
            "  9.48717116e-06 3.68675842e-07]\n",
            " [9.94719863e-01 8.35224637e-06 1.08927539e-04 7.34351624e-06\n",
            "  2.80920049e-05 9.27295696e-05 8.42581358e-05 5.61078696e-06\n",
            "  1.50821933e-07 4.94465744e-03]\n",
            " [5.14559360e-06 6.21359908e-10 7.94872790e-07 8.91760550e-08\n",
            "  9.82477367e-01 5.60721332e-07 4.78120739e-07 4.50432453e-05\n",
            "  3.05734852e-06 1.74674448e-02]]\n",
            "[7 2 1 0 4]\n",
            "[7 2 1 0 4]\n"
          ]
        }
      ]
    },
    {
      "cell_type": "code",
      "source": [
        "#Как определить кол-во настраиваемых параметров?"
      ],
      "metadata": {
        "id": "pa17MuRbDawO"
      },
      "execution_count": null,
      "outputs": []
    },
    {
      "cell_type": "code",
      "source": [
        "(28 * 28 + 1) * 64"
      ],
      "metadata": {
        "colab": {
          "base_uri": "https://localhost:8080/"
        },
        "id": "PV-czRGODz6l",
        "outputId": "26fc20f8-fa5c-457e-9750-d83839b5e52f"
      },
      "execution_count": null,
      "outputs": [
        {
          "output_type": "execute_result",
          "data": {
            "text/plain": [
              "50240"
            ]
          },
          "metadata": {},
          "execution_count": 19
        }
      ]
    },
    {
      "cell_type": "code",
      "source": [
        "(64 + 1) * 64"
      ],
      "metadata": {
        "colab": {
          "base_uri": "https://localhost:8080/"
        },
        "id": "uPl71qYsD0qL",
        "outputId": "80849155-c731-4e05-ee31-2da284924d79"
      },
      "execution_count": null,
      "outputs": [
        {
          "output_type": "execute_result",
          "data": {
            "text/plain": [
              "4160"
            ]
          },
          "metadata": {},
          "execution_count": 20
        }
      ]
    },
    {
      "cell_type": "code",
      "source": [
        "model.summary()"
      ],
      "metadata": {
        "colab": {
          "base_uri": "https://localhost:8080/"
        },
        "id": "nRWZWaoqD4uB",
        "outputId": "022d051d-8740-4c6c-adc4-9a347ff44c60"
      },
      "execution_count": null,
      "outputs": [
        {
          "output_type": "stream",
          "name": "stdout",
          "text": [
            "Model: \"sequential\"\n",
            "_________________________________________________________________\n",
            " Layer (type)                Output Shape              Param #   \n",
            "=================================================================\n",
            " dense (Dense)               (None, 64)                50240     \n",
            "                                                                 \n",
            " dense_1 (Dense)             (None, 64)                4160      \n",
            "                                                                 \n",
            " dense_2 (Dense)             (None, 10)                650       \n",
            "                                                                 \n",
            "=================================================================\n",
            "Total params: 55,050\n",
            "Trainable params: 55,050\n",
            "Non-trainable params: 0\n",
            "_________________________________________________________________\n"
          ]
        }
      ]
    },
    {
      "cell_type": "code",
      "source": [
        "model.layers"
      ],
      "metadata": {
        "colab": {
          "base_uri": "https://localhost:8080/"
        },
        "id": "vXM7fQltD6ow",
        "outputId": "d01bbefd-733f-40f4-d53e-53681b026274"
      },
      "execution_count": null,
      "outputs": [
        {
          "output_type": "execute_result",
          "data": {
            "text/plain": [
              "[<keras.layers.core.dense.Dense at 0x7f3a59957750>,\n",
              " <keras.layers.core.dense.Dense at 0x7f3a5aa95810>,\n",
              " <keras.layers.core.dense.Dense at 0x7f3a59948090>]"
            ]
          },
          "metadata": {},
          "execution_count": 22
        }
      ]
    }
  ]
}